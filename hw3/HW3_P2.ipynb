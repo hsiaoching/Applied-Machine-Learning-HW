version https://git-lfs.github.com/spec/v1
oid sha256:551b7cc825e63ddd1686e7e1e383a64e0d188d70b19e5c1b612799fe157e9522
size 308864
