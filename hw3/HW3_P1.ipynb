version https://git-lfs.github.com/spec/v1
oid sha256:3b75c0709dfedd6d9923a38e1e0ce1ed0da03e1b8d25db1589d79de3cd954152
size 364231
