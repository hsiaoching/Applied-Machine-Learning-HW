version https://git-lfs.github.com/spec/v1
oid sha256:efd378bc8dab546ba8e17c18900d5a311f0623f3a8730b5f9275a41814a4c7ce
size 6050
