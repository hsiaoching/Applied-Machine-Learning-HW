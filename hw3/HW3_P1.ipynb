version https://git-lfs.github.com/spec/v1
oid sha256:5512c16a33678cb43c82a5d8c3db34e7dab4e48c418d27e32f9d2d716ac79dff
size 10539
